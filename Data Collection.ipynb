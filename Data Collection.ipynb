{
 "cells": [
  {
   "cell_type": "code",
   "execution_count": null,
   "metadata": {},
   "outputs": [],
   "source": [
    "\"\"\"\n",
    "@Author: Shahzeb Afroze\n",
    "Date: 26/03/2020\n",
    "This script will be used to scrape information from the html file\n",
    "\"\"\""
   ]
  },
  {
   "cell_type": "code",
   "execution_count": 2,
   "metadata": {},
   "outputs": [],
   "source": [
    "# import libraries\n",
    "import requests\n",
    "import bs4\n",
    "import os\n",
    "import pandas as pd"
   ]
  },
  {
   "cell_type": "markdown",
   "metadata": {},
   "source": [
    "### Locations scraping"
   ]
  },
  {
   "cell_type": "code",
   "execution_count": 3,
   "metadata": {},
   "outputs": [],
   "source": [
    "# read html file downloaded from https://mrosmow.com/locations/\n",
    "\n",
    "with open('Locations - mrosmow.com.html', 'r') as fp:\n",
    "    html_file = fp.read()\n",
    "    \n",
    "noStarchSoup = bs4.BeautifulSoup(html_file, 'html.parser')\n",
    "\n",
    "# loop over index \n",
    "number_of_stores = len(noStarchSoup.select('.wpsl-store-location'))\n",
    "\n",
    "\n",
    "all_stores = []\n",
    "for i in range(number_of_stores):\n",
    "    holder = {}\n",
    "    \n",
    "    store_select = noStarchSoup.select('.wpsl-store-location')[i]\n",
    "    holder[\"Location Name\"] = store_select.select('strong')[0].getText()\n",
    "    holder[\"Full Address\"] = store_select.select('span')[0].getText()\n",
    "    holder[\"Postal Code\"] = store_select.select('span')[1].getText()[-7:] # to cut the string\n",
    "    \n",
    "    all_stores.append(holder)\n",
    "    "
   ]
  },
  {
   "cell_type": "code",
   "execution_count": 4,
   "metadata": {},
   "outputs": [
    {
     "data": {
      "text/html": [
       "<div>\n",
       "<style scoped>\n",
       "    .dataframe tbody tr th:only-of-type {\n",
       "        vertical-align: middle;\n",
       "    }\n",
       "\n",
       "    .dataframe tbody tr th {\n",
       "        vertical-align: top;\n",
       "    }\n",
       "\n",
       "    .dataframe thead th {\n",
       "        text-align: right;\n",
       "    }\n",
       "</style>\n",
       "<table border=\"1\" class=\"dataframe\">\n",
       "  <thead>\n",
       "    <tr style=\"text-align: right;\">\n",
       "      <th></th>\n",
       "      <th>Full Address</th>\n",
       "      <th>Location Name</th>\n",
       "      <th>Postal Code</th>\n",
       "      <th>Search Address</th>\n",
       "    </tr>\n",
       "  </thead>\n",
       "  <tbody>\n",
       "    <tr>\n",
       "      <th>0</th>\n",
       "      <td>611 Queen St W</td>\n",
       "      <td>Toronto – Queen &amp; Bathurst (Fashion District)</td>\n",
       "      <td>M5V 2B7</td>\n",
       "      <td>Osmow's Shawarma Toronto, ON M5V 2B7</td>\n",
       "    </tr>\n",
       "    <tr>\n",
       "      <th>1</th>\n",
       "      <td>351 College St</td>\n",
       "      <td>Toronto – College &amp; Augusta (Kensington Market)</td>\n",
       "      <td>M5T 1S5</td>\n",
       "      <td>Osmow's Shawarma Toronto, ON M5T 1S5</td>\n",
       "    </tr>\n",
       "    <tr>\n",
       "      <th>2</th>\n",
       "      <td>497 Danforth Ave</td>\n",
       "      <td>Toronto – Danforth &amp; Logan</td>\n",
       "      <td>M4K 1P5</td>\n",
       "      <td>Osmow's Shawarma Toronto, ON M4K 1P5</td>\n",
       "    </tr>\n",
       "    <tr>\n",
       "      <th>3</th>\n",
       "      <td>2439 Yonge St</td>\n",
       "      <td>Toronto – Yonge &amp; Eglinton</td>\n",
       "      <td>M4P 2E7</td>\n",
       "      <td>Osmow's Shawarma Toronto, ON M4P 2E7</td>\n",
       "    </tr>\n",
       "    <tr>\n",
       "      <th>4</th>\n",
       "      <td>605 Rogers Rd</td>\n",
       "      <td>York – Rogers &amp; Keele</td>\n",
       "      <td>M6M 1B9</td>\n",
       "      <td>Osmow's Shawarma Toronto, ON M6M 1B9</td>\n",
       "    </tr>\n",
       "  </tbody>\n",
       "</table>\n",
       "</div>"
      ],
      "text/plain": [
       "       Full Address                                    Location Name  \\\n",
       "0    611 Queen St W    Toronto – Queen & Bathurst (Fashion District)   \n",
       "1    351 College St  Toronto – College & Augusta (Kensington Market)   \n",
       "2  497 Danforth Ave                       Toronto – Danforth & Logan   \n",
       "3     2439 Yonge St                       Toronto – Yonge & Eglinton   \n",
       "4     605 Rogers Rd                            York – Rogers & Keele   \n",
       "\n",
       "  Postal Code                        Search Address  \n",
       "0     M5V 2B7  Osmow's Shawarma Toronto, ON M5V 2B7  \n",
       "1     M5T 1S5  Osmow's Shawarma Toronto, ON M5T 1S5  \n",
       "2     M4K 1P5  Osmow's Shawarma Toronto, ON M4K 1P5  \n",
       "3     M4P 2E7  Osmow's Shawarma Toronto, ON M4P 2E7  \n",
       "4     M6M 1B9  Osmow's Shawarma Toronto, ON M6M 1B9  "
      ]
     },
     "execution_count": 4,
     "metadata": {},
     "output_type": "execute_result"
    }
   ],
   "source": [
    "all_stores_extracted = pd.read_csv(\"all_stores_extracted.csv\", index_col=[0])\n",
    "all_stores_extracted[\"Search Address\"] = \"Osmow's Shawarma Toronto, ON \" + all_stores_extracted[\"Postal Code\"]\n",
    "\n",
    "# need to geocode all_stores_extracted\n",
    "all_stores_extracted.head()"
   ]
  },
  {
   "cell_type": "markdown",
   "metadata": {},
   "source": [
    "### Looking up place_id"
   ]
  },
  {
   "cell_type": "code",
   "execution_count": null,
   "metadata": {},
   "outputs": [],
   "source": [
    "import googlemaps\n",
    "from datetime import datetime\n",
    "\n",
    "YOUR_API_KEY = '' # Follow instruction from https://github.com/m-wrzr/populartimes in order to find your API key\n",
    "\n",
    "gmaps = googlemaps.Client(key=YOUR_API_KEY)\n",
    "\n",
    "def retreive_place_id(address):\n",
    "    geocode_result = gmaps.geocode(address)\n",
    "    place_id = geocode_result[0]['place_id']\n",
    "    return place_id\n",
    "\n",
    "all_stores_extracted[\"place_id\"] = all_stores_extracted['Search Address'].apply(retreive_place_id)\n",
    "all_stores_extracted.to_csv(\"updated_file.csv\")\n"
   ]
  }
 ],
 "metadata": {
  "kernelspec": {
   "display_name": "firstEnv",
   "language": "python",
   "name": "firstenv"
  },
  "language_info": {
   "codemirror_mode": {
    "name": "ipython",
    "version": 3
   },
   "file_extension": ".py",
   "mimetype": "text/x-python",
   "name": "python",
   "nbconvert_exporter": "python",
   "pygments_lexer": "ipython3",
   "version": "3.6.5"
  }
 },
 "nbformat": 4,
 "nbformat_minor": 2
}
